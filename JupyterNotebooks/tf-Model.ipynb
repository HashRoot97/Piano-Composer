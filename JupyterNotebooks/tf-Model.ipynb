{
 "cells": [
  {
   "cell_type": "code",
   "execution_count": 5,
   "metadata": {},
   "outputs": [],
   "source": [
    "import tensorflow as tf\n",
    "import numpy as np\n",
    "from tensorflow.contrib import rnn\n",
    "import warnings\n",
    "warnings.filterwarnings('ignore')"
   ]
  },
  {
   "cell_type": "code",
   "execution_count": 2,
   "metadata": {},
   "outputs": [
    {
     "name": "stdout",
     "output_type": "stream",
     "text": [
      "(57077, 100, 1) (57077, 358)\n"
     ]
    }
   ],
   "source": [
    "network_input = np.load('./../NumpyDataset/Input-Tensor.npy')\n",
    "network_output = np.load('./../NumpyDataset/Output-Tensor.npy')\n",
    "print(network_input.shape, network_output.shape)"
   ]
  },
  {
   "cell_type": "code",
   "execution_count": 6,
   "metadata": {},
   "outputs": [
    {
     "data": {
      "text/plain": [
       "<tf.Tensor 'dense_1/BiasAdd:0' shape=(?, 358) dtype=float32>"
      ]
     },
     "execution_count": 6,
     "metadata": {},
     "output_type": "execute_result"
    }
   ],
   "source": [
    "g = tf.Graph()\n",
    "time_steps=100\n",
    "with g.as_default():\n",
    "    x = tf.placeholder(dtype=tf.float32, \n",
    "                       shape=(None, 100, 1))\n",
    "    y_true = tf.placeholder(dtype=tf.float32, \n",
    "                       shape=(None, 358))\n",
    "    y_true_cls = tf.argmax(y_true, dimension=1)\n",
    "    inpt=tf.unstack(x ,time_steps,1)\n",
    "    num_units = [256, 512, 256]\n",
    "    rnn_layers = []\n",
    "    for size in num_units:\n",
    "        \n",
    "        rnn_layers.append(tf.nn.rnn_cell.LSTMCell(size, \n",
    "                                                  forget_bias=1)) \n",
    "        \n",
    "    multi_rnn_cell = tf.nn.rnn_cell.MultiRNNCell(rnn_layers)\n",
    "    \n",
    "    outputs, states = tf.nn.static_rnn(cell=multi_rnn_cell, \n",
    "                                       inputs=inpt,\n",
    "                                       dtype=tf.float32)\n",
    "    \n",
    "    output_dense1 = tf.layers.dense(outputs[-1], \n",
    "                                    256, \n",
    "                                    activation=None)\n",
    "    \n",
    "    logits = tf.layers.dense(output_dense1, \n",
    "                                    358, \n",
    "                                    activation=None)\n",
    "    \n",
    "    y_pred = tf.nn.softmax(logits=logits)\n",
    "    \n",
    "    y_pred_cls = tf.argmax(y_pred, \n",
    "                           dimension=1)\n",
    "    \n",
    "    cross_entropy = tf.nn.softmax_cross_entropy_with_logits_v2(labels=y_true, \n",
    "                                                            logits=logits)\n",
    "    loss = tf.reduce_mean(cross_entropy)\n",
    "    \n",
    "    optimizer = tf.train.RMSPropOptimizer(learning_rate=1e-4).minimize(loss)\n",
    "    \n",
    "    correct_prediction = tf.equal(y_pred_cls, y_true_cls)\n",
    "    accuracy = tf.reduce_mean(tf.cast(correct_prediction, tf.float32))\n",
    "    \n",
    "    \n",
    "logits"
   ]
  },
  {
   "cell_type": "code",
   "execution_count": 8,
   "metadata": {},
   "outputs": [],
   "source": [
    "tf.summary.FileWriter(\"logs\", g).close()"
   ]
  },
  {
   "cell_type": "code",
   "execution_count": null,
   "metadata": {},
   "outputs": [],
   "source": []
  }
 ],
 "metadata": {
  "kernelspec": {
   "display_name": "Python 3",
   "language": "python",
   "name": "python3"
  },
  "language_info": {
   "codemirror_mode": {
    "name": "ipython",
    "version": 3
   },
   "file_extension": ".py",
   "mimetype": "text/x-python",
   "name": "python",
   "nbconvert_exporter": "python",
   "pygments_lexer": "ipython3",
   "version": "3.5.2"
  }
 },
 "nbformat": 4,
 "nbformat_minor": 2
}
